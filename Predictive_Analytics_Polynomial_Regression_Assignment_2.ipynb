{
  "cells": [
    {
      "cell_type": "markdown",
      "metadata": {
        "id": "AtzSquaQnaBD"
      },
      "source": [
        "# Problem Description:\n",
        "A Human Resource company needs to determine the salary for a new job position being created. They only have access to a salary dataset for the company, which includes salary information for the top 10 positions along with their corresponding levels. The task is to assist HR in deciding the appropriate salary if the new position falls between levels 7 and 8.\n",
        "\n",
        "Data Set: **Position_Salaries.csv**\n",
        "Rules: You are restricted from utilizing the sklearn library.You are limited to using only the libraries provided.\n",
        "\n",
        "Reference : https://www.javatpoint.com/machine-learning-polynomial-regression\n",
        "\n",
        " https://www.kaggle.com/code/omkarsantoshraut/polynomial-regression"
      ]
    },
    {
      "cell_type": "code",
      "execution_count": 2,
      "metadata": {
        "id": "1tJn4PzWnZtz"
      },
      "outputs": [],
      "source": [
        "# Allowded to use only these libraries\n",
        "\n",
        "import numpy as np\n",
        "import matplotlib.pyplot as plt\n",
        "import pandas as pd\n",
        "import seaborn as sns"
      ]
    },
    {
      "cell_type": "markdown",
      "metadata": {
        "id": "pDonG1iOtiCP"
      },
      "source": [
        "## Exploratory data analysis"
      ]
    },
    {
      "cell_type": "code",
      "execution_count": 3,
      "metadata": {
        "id": "BUFCZbfRlfzi"
      },
      "outputs": [
        {
          "data": {
            "text/html": [
              "<div>\n",
              "<style scoped>\n",
              "    .dataframe tbody tr th:only-of-type {\n",
              "        vertical-align: middle;\n",
              "    }\n",
              "\n",
              "    .dataframe tbody tr th {\n",
              "        vertical-align: top;\n",
              "    }\n",
              "\n",
              "    .dataframe thead th {\n",
              "        text-align: right;\n",
              "    }\n",
              "</style>\n",
              "<table border=\"1\" class=\"dataframe\">\n",
              "  <thead>\n",
              "    <tr style=\"text-align: right;\">\n",
              "      <th></th>\n",
              "      <th>Position</th>\n",
              "      <th>Level</th>\n",
              "      <th>Salary</th>\n",
              "    </tr>\n",
              "  </thead>\n",
              "  <tbody>\n",
              "    <tr>\n",
              "      <th>0</th>\n",
              "      <td>Business Analyst</td>\n",
              "      <td>1</td>\n",
              "      <td>45000</td>\n",
              "    </tr>\n",
              "    <tr>\n",
              "      <th>1</th>\n",
              "      <td>Junior Consultant</td>\n",
              "      <td>2</td>\n",
              "      <td>50000</td>\n",
              "    </tr>\n",
              "    <tr>\n",
              "      <th>2</th>\n",
              "      <td>Senior Consultant</td>\n",
              "      <td>3</td>\n",
              "      <td>60000</td>\n",
              "    </tr>\n",
              "    <tr>\n",
              "      <th>3</th>\n",
              "      <td>Manager</td>\n",
              "      <td>4</td>\n",
              "      <td>80000</td>\n",
              "    </tr>\n",
              "    <tr>\n",
              "      <th>4</th>\n",
              "      <td>Country Manager</td>\n",
              "      <td>5</td>\n",
              "      <td>110000</td>\n",
              "    </tr>\n",
              "  </tbody>\n",
              "</table>\n",
              "</div>"
            ],
            "text/plain": [
              "            Position  Level  Salary\n",
              "0   Business Analyst      1   45000\n",
              "1  Junior Consultant      2   50000\n",
              "2  Senior Consultant      3   60000\n",
              "3            Manager      4   80000\n",
              "4    Country Manager      5  110000"
            ]
          },
          "execution_count": 3,
          "metadata": {},
          "output_type": "execute_result"
        }
      ],
      "source": [
        "# your code(s)\n",
        "data=pd.read_csv(r\"D:\\rohith\\Duk\\programs\\assignment1\\Position_Salaries.csv\")\n",
        "data.head()"
      ]
    },
    {
      "cell_type": "code",
      "execution_count": 5,
      "metadata": {},
      "outputs": [
        {
          "name": "stdout",
          "output_type": "stream",
          "text": [
            "<class 'pandas.core.frame.DataFrame'>\n",
            "RangeIndex: 10 entries, 0 to 9\n",
            "Data columns (total 3 columns):\n",
            " #   Column    Non-Null Count  Dtype \n",
            "---  ------    --------------  ----- \n",
            " 0   Position  10 non-null     object\n",
            " 1   Level     10 non-null     int64 \n",
            " 2   Salary    10 non-null     int64 \n",
            "dtypes: int64(2), object(1)\n",
            "memory usage: 368.0+ bytes\n",
            "None\n"
          ]
        },
        {
          "data": {
            "image/png": "[encoded data removed]",
            "text/plain": [
              "<Figure size 1000x600 with 1 Axes>"
            ]
          },
          "metadata": {},
          "output_type": "display_data"
        }
      ],
      "source": [
        "print(data.info())\n",
        "plt.figure(figsize=(10, 6))\n",
        "sns.scatterplot(x='Level', y='Salary', data=data)\n",
        "plt.title('Salary vs Level')\n",
        "plt.xlabel('Level')\n",
        "plt.ylabel('Salary')\n",
        "plt.show()"
      ]
    },
    {
      "cell_type": "markdown",
      "metadata": {
        "id": "mvaBWQfAtpp-"
      },
      "source": [
        "### Based on the exploratory data analysis, answer the following\n",
        "\n",
        "\n",
        "* Can you use a simple linear regression model to fit this data (Yes/No)?\n",
        "> No\n",
        "* If you use a simple linear model to fit this data, will it fit well (Yes/No)?\n",
        "> No\n",
        "* Explain why you said yes or no to the above questions.\n",
        "> salary and leval realtionship not linear .This is curve plot ,so we can not linear regression model not fit well.\n",
        "\n"
      ]
    },
    {
      "cell_type": "markdown",
      "metadata": {
        "id": "exOvj2CxFelv"
      },
      "source": [
        "## Polynomial Regression\n",
        "\n",
        "**Construct a second order Model:** $$\\;\\;\\;\\;\n",
        "\\hat y = w_1 x_1^2 + w_2x_1 + b\n",
        "$$\n",
        "\n",
        "**Construct a Cost function:**\n",
        "$$MSE(w_1,w_2,b)= your\\;answer$$"
      ]
    },
    {
      "cell_type": "code",
      "execution_count": 6,
      "metadata": {
        "id": "Da1vxqoEyL-W"
      },
      "outputs": [
        {
          "name": "stdout",
          "output_type": "stream",
          "text": [
            "Predicted Salary for level 7.5: $328672.35\n"
          ]
        },
        {
          "data": {
            "image/png": "[encoded data removed]",
            "text/plain": [
              "<Figure size 1000x600 with 1 Axes>"
            ]
          },
          "metadata": {},
          "output_type": "display_data"
        }
      ],
      "source": [
        "# your code to plot the cost function (if required)\n",
        "X = data['Level'].values.reshape(-1, 1)\n",
        "y = data['Salary'].values\n",
        "X_poly = np.hstack((X, X**2))\n",
        "X_poly = np.hstack((np.ones((X_poly.shape[0], 1)), X_poly))\n",
        "coefficients = np.linalg.inv(X_poly.T.dot(X_poly)).dot(X_poly.T).dot(y)\n",
        "\n",
        "def poly_model(x):\n",
        "    return coefficients[0] + coefficients[1] * x + coefficients[2] * x**2\n",
        "\n",
        "level_new = 7.5\n",
        "predicted_salary = poly_model(level_new)\n",
        "print(f\"Predicted Salary for level {level_new}: ${predicted_salary:.2f}\")\n",
        "\n",
        "# Plotting the polynomial curve\n",
        "plt.figure(figsize=(10, 6))\n",
        "plt.scatter(X, y, color='red')\n",
        "plt.plot(np.linspace(min(X), max(X), 100), poly_model(np.linspace(min(X), max(X), 100)), color='blue')\n",
        "plt.title('Polynomial Regression: Salary vs Level')\n",
        "plt.xlabel('Level')\n",
        "plt.ylabel('Salary')\n",
        "plt.show()"
      ]
    },
    {
      "cell_type": "markdown",
      "metadata": {
        "id": "2aQT57RJySAu"
      },
      "source": [
        "### By analysing the cost function, answer the following\n",
        "\n",
        "\n",
        "* Can you use mean squared error as the cost function (Yes/No)?\n",
        "> yes\n",
        "* Explain why you said yes or no to the above questions.\n",
        "> The cost function for polynomial regression, which calculates the average squared difference between predicted and actual values, is fitting for evaluating the model's performance as it effectively captures the degree of deviation between predicted and observed data points."
      ]
    },
    {
      "cell_type": "markdown",
      "metadata": {
        "id": "sTQ46QsyyuYG"
      },
      "source": [
        "**Derivatives of cost function:**\n",
        "$$Your \\; answer$$\n",
        "\n",
        "**Gradient Descent Algorithm:**\n",
        "```\n",
        "Repeat until converges:\n",
        "```\n",
        "$$your\\;answer$$"
      ]
    },
    {
      "cell_type": "markdown",
      "metadata": {
        "id": "7bzYFCh5zIL4"
      },
      "source": [
        "## Implementation of the model"
      ]
    },
    {
      "cell_type": "code",
      "execution_count": null,
      "metadata": {
        "id": "EPZv6kMJzfk4"
      },
      "outputs": [],
      "source": [
        "# Write a code/ function to do the following\n",
        "\n",
        "# function for your model\n",
        "\n",
        "# a function for your cost function\n",
        "\n",
        "# function to calculate the derivatives\n",
        "\n",
        "# code to estimate the parametes using gradient descent\n",
        "# Aslo estimate the cost function in each iteration\n",
        "\n",
        "# Plot the model with the data given\n",
        "# plot the iteratio VS cost\n",
        "\n",
        "# estimate the solution to the given problem\n",
        "\n",
        "# mark the point or result in the graph (plot)\n",
        "\n",
        "# Estimate the model performance"
      ]
    },
    {
      "cell_type": "markdown",
      "metadata": {
        "id": "qhvdbzMx0P-B"
      },
      "source": [
        "### Answer the following\n",
        "\n",
        "* What is learning rate?\n",
        "> * Your answer\n",
        "* What will happen if the learning rate is too large?\n",
        "> * Your answer\n",
        "* What will happen if the learning rate is too small?\n",
        "> * Your answer\n",
        "* If you what to change the second order (quadratic) model to third order model what all things will change in the above code?\n",
        "> * Your answer\n",
        "> * Your answer\n",
        "> * Your answer\n",
        "> * Your answer\n",
        "> * Your answer"
      ]
    }
  ],
  "metadata": {
    "colab": {
      "provenance": []
    },
    "kernelspec": {
      "display_name": "Python 3",
      "name": "python3"
    },
    "language_info": {
      "codemirror_mode": {
        "name": "ipython",
        "version": 3
      },
      "file_extension": ".py",
      "mimetype": "text/x-python",
      "name": "python",
      "nbconvert_exporter": "python",
      "pygments_lexer": "ipython3",
      "version": "3.10.8"
    }
  },
  "nbformat": 4,
  "nbformat_minor": 0
}
